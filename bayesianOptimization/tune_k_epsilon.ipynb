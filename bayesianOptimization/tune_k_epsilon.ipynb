{
 "cells": [
  {
   "cell_type": "markdown",
   "metadata": {},
   "source": [
    "# Optimization of k-$\\epsilon$ in the Pitz and Daily Case\n",
    "\n",
    "## Problem description\n",
    "The pitzDaily case in OpenFOAM is based on the experimental work of Pitz and Daily [1983] which explores the turbulent flow of gases in a combustion chamber. The problem geometry has a backward facing step near the inlet and a tapered nozzle near the outlet with boundary conditions $U = [10, 0 , 0]$ m s$^{-1}$, $\\nabla P=0$Pa at the inlet, and $\\nabla U=0$m s$^{-1}$, $P=0$Pa at the outlet.\n",
    "\n",
    "For the Reynolds-Averaged Navier Stokes case, using the simpleFOAM steady-state solver, the turbulence is represented by a $k-\\epsilon$ turbulence model which has five coefficients. In addition, the boundary condition for $\\epsilon$, i.e the turbulent kinetic energy decay, must be specified. For the Pitz and Daily case, a length scale argument is used to derive a value of 14.855 m$^2$ s$^{-2}$. Following the work of Shirzadi et al. [2017], one of the free parameters $\\sigma_\\epsilon$ can be calculated from the the other free parameters as\n",
    "\n",
    "$\\sigma_\\epsilon = \\frac{k^2}{C_{\\mu}^{1/2}(C_2 - C_1)}$.\n",
    "\n",
    "Additionally, the authors also found that for their problem $\\sigma_k$ does not significantly affect their simulation and so set that parameter to 1.\n",
    "\n",
    "Hence the RANS model has four free parameters, one related to the decay of turbulent kinetic energy $\\epsilon$ and three related to the $k-\\epsilon$ model, $C_\\mu$, $C_1$, and $C_2$.\n",
    "\n",
    "## Goal of the exercise\n",
    "A common goal of RANS modelling is to replicate the time-averaged behavior of a turbulent case (e.g. from a LES simulation). Often this is done by trying to select values for the free parameters of the RANS case such that metrics of accuracy from the LES and RANS cases are the same. For the Pitz and Daily case, a common metric used to gauge accuracy is the pressure gradient between the outlet and the inlet: $\\nabla P = P_{outlet} - P_{inlet}$. Given that the boundary condition for the inlet pressure is zero, the pressure gradient reduces to $\\nabla P = P_{outlet}$. Assuming that only the free parameters of the turbulence model-related problems affect the pressure in the RANS case, the accuracy of the RANS model can be quantified as the squared difference between the outlet $P$ from the LES and RANS models. Note here, that to match the scales correctly, we use the large-scale $P$ from the LES model averaged over the last 0.1 seconds of the that simulation as the truth $P_{mean} \\approx 1.9 \\textrm{Pa}$. Hence, we can pose the tuning of the RANS model as attempting to minimize the following equation:\n",
    "\n",
    "$f(k, C_\\mu, C_1, C_2) = \\left( P_{RANS}(k, C_\\mu, C_1, C_2) - 1.9 \\right)^2$,\n",
    "where $P_{RANS}$ is the average outlet pressure calculated from the simpleFOAM pitzDaily case.\n",
    "\n",
    "## Methodology\n",
    "The penalty function described previously is a computationally expensive calculation because $P_{RANS}$ must be evaluated for every combination of the free parameters. Additionally, traditional gradient-based optimization schemes requires an estimate of the derivatives of the penalty function. The calculation of these derivatives requires an adjoint model and can of similar cost to the fordward solver.\n",
    "\n",
    "Bayesian optimization is a popular methodology for so-called, blackbox optimization problems, e.g. problems where the only information emitted by function is the output value given a set of inputs. It is also particularly well-suited for applications where the function to be evaluated is expensive to calculate. Instead of directly optimizing the penalty function itself, Bayesian optimization builds a model of the penalty function based on Gaussian processes. The optimization step balances the desire to reduce the uncertainty of the Gaussian processes (referred to as \"exploration\") and also optimizing the model of the penalty function (referred to as \"exploitation\").\n",
    "\n",
    "This exploitation and exploration paradigm lends itself well to parallel execution of the penalty function. A number of exploration/exploitation functions, which suggest the next set of parameters to evaluate, can be called at each stage of optimization. Additionally, many of these functions can suggest multiple sets of parameters. In combination this practically means that at each iteration of the Bayesian Optimization loop, multiple search directions can be explored.\n",
    "\n",
    "## Implementation\n",
    "\n",
    "Here we use the Bayesian optimization routine from Scikit-Learn combined with SmartSim to find the optimal set of parameters for the RANS pitzDaily case such that the modelled outlet pressures match those from the LES case. To do this, we take advantage of SmartSim's ability to configure and launch ensembles of simulations and execute them in parallel. While this is a relatively simple problem, it is analogous to many more complex cases. This notebook provides a starting-point for those seeking to perform similar experiments."
   ]
  },
  {
   "cell_type": "code",
   "execution_count": 40,
   "metadata": {},
   "outputs": [],
   "source": [
    "from smartredis import Client\n",
    "import skopt\n",
    "import numpy as np\n",
    "import matplotlib.pyplot as plt\n",
    "import os\n",
    "os.environ['SMARTSIM_LOG_LEVEL'] = 'quiet'\n",
    "import fluidfoam"
   ]
  },
  {
   "cell_type": "markdown",
   "metadata": {},
   "source": [
    "### Defining the parameters, default values, and the bounds\n",
    "To begin, we first define the four free parameters that will be optimized giving along with the default values specified in the default pitzDaily case from the OpenFOAM tutorials. The bounds to explore are taken from the paper of Shirzadi et al. [2017]. Additionally, we also define a function to derive the a fifth variable parameter $\\sigma_\\epsilon$ which depends on three other free parameters."
   ]
  },
  {
   "cell_type": "code",
   "execution_count": 19,
   "metadata": {},
   "outputs": [],
   "source": [
    "param_names = [\n",
    "    'epsilon',\n",
    "    'Cmu',\n",
    "    'C1',\n",
    "    'C2',\n",
    "]\n",
    "default_values = [\n",
    "    14.855, \n",
    "    0.09, \n",
    "    1.44, \n",
    "    1.92, \n",
    "]\n",
    "bounds = [\n",
    "    [default_values[0]*0.2, default_values[0]*5],\n",
    "    [0.05, 0.15],\n",
    "    [1., 1.5],\n",
    "    [1.5, 3.],\n",
    "]\n",
    "def calculate_sigma_epsilon(Cmu, C2, C1, kappa=0.375):\n",
    "    return np.sqrt(kappa)/(np.sqrt(Cmu)*(C2-C1))"
   ]
  },
  {
   "cell_type": "markdown",
   "metadata": {},
   "source": [
    "Next we create the SmartSim `Experiment` object which will be used to define the openFOAM experiment and launch the ensemble at every optimization step"
   ]
  },
  {
   "cell_type": "code",
   "execution_count": 2,
   "metadata": {},
   "outputs": [],
   "source": [
    "from smartsim import Experiment\n",
    "exp = Experiment(\"Tune_K-Epsilon\")"
   ]
  },
  {
   "cell_type": "markdown",
   "metadata": {},
   "source": [
    "Next we define the function that will actually calculate the value of the penalty function described previously. We specify `runSettings` which describe how to run the model itself including the location of the executable `simpleFoam` and potentially how many computational resources should be used to run the simulation. Using these `runSettings` we use the input values to the function to create $N$ ensemble members. The `experiment.generate` call ingests the pitzDaily case, creates run directories for each ensemble member and modifies the parameters used in each experiment. `experiment.start` will actually launch each ensemble member (potentially on HPC resources) and then wait until the entire ensemble returns. Lastly, we extract the averaged inlet pressure and calculate the squared difference between the each ensemble member and the 'true' inlet pressure from the LES simulation."
   ]
  },
  {
   "cell_type": "code",
   "execution_count": 31,
   "metadata": {},
   "outputs": [],
   "source": [
    "def evaluate_function(values, true_p = 1.9):\n",
    "\n",
    "    nparams = len(values[0])\n",
    "\n",
    "    # Turn the values into a list of dictionaries\n",
    "    params = {}\n",
    "    for i in range(nparams):\n",
    "        params[param_names[i]] = [ value[i] for value in values ]\n",
    "    # Include the derived sigma_epsilon parameter\n",
    "    params[\"sigmaEps\"] = [\n",
    "        calculate_sigma_epsilon(\n",
    "            params['Cmu'][i], \n",
    "            params['C2'][i], \n",
    "            params['C1'][i]) \n",
    "            for i in range(len(values))\n",
    "        ]\n",
    "\n",
    "    rs = exp.create_run_settings(\n",
    "        \"/home/users/shao/dev/OpenFOAM/openfoam/platforms/linux64CrayDPInt32Opt/bin/simpleFoam\",\n",
    "    )\n",
    "    ens = exp.create_ensemble(\n",
    "        \"evaluation\",\n",
    "        params=params,\n",
    "        perm_strategy='step',\n",
    "        run_settings=rs\n",
    "    )\n",
    "    ens.attach_generator_files(to_configure=\"pitzDaily\")\n",
    "    exp.generate(ens, overwrite=True, tag=\"!\")\n",
    "    exp.start(ens, block=True)\n",
    "\n",
    "    outputs = []\n",
    "    for model in ens.models:\n",
    "        try:\n",
    "            fname = f'{model.path}/postProcessing/avgInlets/0/surfaceFieldValue.dat'\n",
    "            data = np.loadtxt(fname, skiprows=5)\n",
    "\n",
    "            error = (true_p+data[-1,1])**2\n",
    "            if error>1e3:\n",
    "                error = np.nan\n",
    "            \n",
    "            outputs.append( error )\n",
    "        except:\n",
    "            outputs.append(np.nan)\n",
    "\n",
    "    if len(outputs)==1:\n",
    "        return outputs[0]\n",
    "    else:\n",
    "        return outputs"
   ]
  },
  {
   "cell_type": "markdown",
   "metadata": {},
   "source": [
    "### Running the Bayesian Optimization Loop\n",
    "\n",
    "Following the documentation from Scikit-Learn, we use the ask-tell paradigm for Bayesian optimization to investigate multiple search directions (in this case 5) for every iteration loop. We filter the outputs from the optimizer to ensure that only simulations which converged will actually be used to inform the Bayesian optimizer. This process is repeated for 10 loops, outputting the set of parameters that currently yields the smallest penalty function."
   ]
  },
  {
   "cell_type": "code",
   "execution_count": 33,
   "metadata": {
    "scrolled": true
   },
   "outputs": [
    {
     "name": "stdout",
     "output_type": "stream",
     "text": [
      "{'epsilon': [53.07239854125257, 38.13638397906823, 37.12251980914267, 4.703626825563708, 49.80411078277264], 'Cmu': [0.05616517318142233, 0.13889254049717006, 0.11760874977543352, 0.14369741245296255, 0.11191443526329298], 'C1': [1.1884459380869283, 1.0292435929542256, 1.1578212134843728, 1.4146936728062114, 1.458252414272581], 'C2': [1.7184650930962762, 1.8835422267410677, 2.9474360413114518, 1.7016921234869211, 2.2508573923853263], 'sigmaEps': [4.875178451826281, 1.9233860470091335, 0.9977833389271873, 5.628745433664125, 2.309488395659705]}\n",
      "Parameter     \tDefault\tOptimal\tMin\tMax\n",
      "epsilon:     \t14.855\t38.1364\t2.9710\t74.2750\n",
      "Cmu:     \t0.09\t0.1389\t0.0500\t0.1500\n",
      "C1:     \t1.44\t1.0292\t1.0000\t1.5000\n",
      "C2:     \t1.92\t1.8835\t1.5000\t3.0000\n",
      "{'epsilon': [51.711379692796484, 31.73882451305044, 64.11046407195722, 11.784715845846332, 5.481323960813238], 'Cmu': [0.08346065452010827, 0.12464378847238289, 0.144723312701606, 0.09351649030619424, 0.07069013628998014], 'C1': [1.0147056533501622, 1.0219645416358059, 1.4324431339852348, 1.0954882632353538, 1.0655345995109244], 'C2': [2.152162509294293, 2.052471184343409, 2.0564575163880767, 2.5588342590679938, 2.3089937596024983], 'sigmaEps': [1.8635446724280473, 1.6831759531447354, 2.579596546857746, 1.3684360625584306, 1.8522717299267286]}\n",
      "Parameter     \tDefault\tOptimal\tMin\tMax\n",
      "epsilon:     \t14.855\t31.7388\t2.9710\t74.2750\n",
      "Cmu:     \t0.09\t0.1246\t0.0500\t0.1500\n",
      "C1:     \t1.44\t1.0220\t1.0000\t1.5000\n",
      "C2:     \t1.92\t2.0525\t1.5000\t3.0000\n",
      "{'epsilon': [2.971, 19.334208710881512, 74.275, 2.971, 2.971], 'Cmu': [0.15, 0.15, 0.15, 0.15, 0.15], 'C1': [1.0, 1.0756704417528877, 1.5, 1.0609827858534633, 1.1195180568648524], 'C2': [3.0, 3.0, 3.0, 2.629495738914575, 3.0], 'sigmaEps': [0.7905694150420948, 0.8216569886940062, 1.0540925533894596, 1.0080495841608683, 0.8408157471845265]}\n",
      "Parameter     \tDefault\tOptimal\tMin\tMax\n",
      "epsilon:     \t14.855\t31.7388\t2.9710\t74.2750\n",
      "Cmu:     \t0.09\t0.1246\t0.0500\t0.1500\n",
      "C1:     \t1.44\t1.0220\t1.0000\t1.5000\n",
      "C2:     \t1.92\t2.0525\t1.5000\t3.0000\n",
      "{'epsilon': [13.773802108484919, 17.04330863913895, 33.2074929667706, 35.186768056571054, 36.49718216778115], 'Cmu': [0.08922646476346968, 0.09226051826817341, 0.12305682443351057, 0.12642873647967784, 0.12322211671425916], 'C1': [1.0985363867004045, 1.0962725398448248, 1.0225727613483446, 1.0158616640801532, 1.023094527729131], 'C2': [2.545593049915924, 2.526710390612706, 2.03746702020087, 2.0124116280182616, 2.0639799769340352], 'sigmaEps': [1.4167174832103109, 1.4094143710580818, 1.7200536228450327, 1.728198632993995, 1.6759781947942405]}\n",
      "Parameter     \tDefault\tOptimal\tMin\tMax\n",
      "epsilon:     \t14.855\t31.7388\t2.9710\t74.2750\n",
      "Cmu:     \t0.09\t0.1246\t0.0500\t0.1500\n",
      "C1:     \t1.44\t1.0220\t1.0000\t1.5000\n",
      "C2:     \t1.92\t2.0525\t1.5000\t3.0000\n",
      "{'epsilon': [18.22963049090188, 74.275, 15.082313366558793, 74.275, 33.75508429817028], 'Cmu': [0.0888020311149443, 0.15, 0.08934991192356327, 0.14339484936744923, 0.11766375614774746], 'C1': [1.0962048227219545, 1.5, 1.0906946111166722, 1.5, 1.025937507224338], 'C2': [2.560578600063895, 2.9166649494913113, 2.5257275651743702, 2.9508948333988156, 2.1208248070691704], 'sigmaEps': [1.4033055438029856, 1.1160993505570505, 1.4276005124713689, 1.1145843059532423, 1.6305152370073184]}\n",
      "Parameter     \tDefault\tOptimal\tMin\tMax\n",
      "epsilon:     \t14.855\t33.7551\t2.9710\t74.2750\n",
      "Cmu:     \t0.09\t0.1177\t0.0500\t0.1500\n",
      "C1:     \t1.44\t1.0259\t1.0000\t1.5000\n",
      "C2:     \t1.92\t2.1208\t1.5000\t3.0000\n",
      "{'epsilon': [74.275, 34.222472831718775, 28.842275743477014, 74.275, 58.12027627393556], 'Cmu': [0.15, 0.11459117884991236, 0.10968849632848851, 0.15, 0.1413952877360391], 'C1': [1.4778371584376513, 1.0415653745293545, 1.0457573487199625, 1.0, 1.0], 'C2': [2.957701139146307, 2.1995459726867073, 2.232004797590869, 1.8963820731921066, 1.912223232963076], 'sigmaEps': [1.0684352418166407, 1.5622076398462337, 1.5586901858912414, 1.7639117039161607, 1.7852417590262262]}\n",
      "Parameter     \tDefault\tOptimal\tMin\tMax\n",
      "epsilon:     \t14.855\t74.2750\t2.9710\t74.2750\n",
      "Cmu:     \t0.09\t0.1500\t0.0500\t0.1500\n",
      "C1:     \t1.44\t1.0000\t1.0000\t1.5000\n",
      "C2:     \t1.92\t1.8964\t1.5000\t3.0000\n",
      "{'epsilon': [74.275, 74.275, 74.275, 74.275, 45.95341439369534], 'Cmu': [0.15, 0.1449926052351921, 0.12249617020656776, 0.11552274447742966, 0.11578167826078911], 'C1': [1.0, 1.0, 1.0610935275725029, 1.084878237420204, 1.0425826247856889], 'C2': [1.8615335097389323, 1.9124757163252484, 2.290569463206813, 2.4183408249198326, 2.1993227818770826], 'sigmaEps': [1.8352609761671568, 1.7624686137424916, 1.4230964840056795, 1.3511421723998787, 1.5558219737002716]}\n",
      "Parameter     \tDefault\tOptimal\tMin\tMax\n",
      "epsilon:     \t14.855\t74.2750\t2.9710\t74.2750\n",
      "Cmu:     \t0.09\t0.1500\t0.0500\t0.1500\n",
      "C1:     \t1.44\t1.0000\t1.0000\t1.5000\n",
      "C2:     \t1.92\t1.8964\t1.5000\t3.0000\n",
      "{'epsilon': [68.96692186077902, 31.90210672020991, 61.13121967903216, 74.275, 74.275], 'Cmu': [0.14374895686824085, 0.11417022303243027, 0.13785943897602204, 0.12521418249158378, 0.12776334372487633], 'C1': [1.002040465747581, 1.0380839535331956, 1.0, 1.441914619237294, 1.4312579152194278], 'C2': [1.9441926910818819, 2.1614402379673856, 1.960565427181848, 3.0, 3.0], 'sigmaEps': [1.7143212349163934, 1.6133243544988916, 1.71700052945786, 1.1107021690461063, 1.0920963400437773]}\n",
      "Parameter     \tDefault\tOptimal\tMin\tMax\n",
      "epsilon:     \t14.855\t74.2750\t2.9710\t74.2750\n",
      "Cmu:     \t0.09\t0.1500\t0.0500\t0.1500\n",
      "C1:     \t1.44\t1.0000\t1.0000\t1.5000\n",
      "C2:     \t1.92\t1.8964\t1.5000\t3.0000\n",
      "{'epsilon': [74.275, 5.067369735518683, 40.755809640981056, 74.275, 2.971], 'Cmu': [0.1171909327808595, 0.08509750552555156, 0.13011793016595197, 0.12415596223595694, 0.05], 'C1': [1.4179906805471603, 1.1113533821080226, 1.0, 1.4223377556784038, 1.196119087741403], 'C2': [3.0, 2.57921360089326, 1.9570486832809302, 2.9524274505772485, 3.0], 'sigmaEps': [1.1307317599631936, 1.430120125656626, 1.7738342274778065, 1.1358342324983879, 1.518178261610894]}\n",
      "Parameter     \tDefault\tOptimal\tMin\tMax\n",
      "epsilon:     \t14.855\t74.2750\t2.9710\t74.2750\n",
      "Cmu:     \t0.09\t0.1500\t0.0500\t0.1500\n",
      "C1:     \t1.44\t1.0000\t1.0000\t1.5000\n",
      "C2:     \t1.92\t1.8964\t1.5000\t3.0000\n",
      "{'epsilon': [74.275, 74.275, 74.275, 74.275, 31.712739706986927], 'Cmu': [0.1462561370709387, 0.14221376027959082, 0.15, 0.14576694040089272, 0.1055133972420004], 'C1': [1.4221498530919892, 1.4046637620811087, 1.4067697086353208, 1.4020509475103988, 1.0639410216979577], 'C2': [2.8500246628651937, 2.8682064552797524, 2.8273861436339045, 2.805899596709992, 2.331406465693668], 'sigmaEps': [1.1214204011144788, 1.1095309676863618, 1.112994888085865, 1.1425253012859493, 1.487392896553794]}\n",
      "Parameter     \tDefault\tOptimal\tMin\tMax\n",
      "epsilon:     \t14.855\t31.7127\t2.9710\t74.2750\n",
      "Cmu:     \t0.09\t0.1055\t0.0500\t0.1500\n",
      "C1:     \t1.44\t1.0639\t1.0000\t1.5000\n",
      "C2:     \t1.92\t2.3314\t1.5000\t3.0000\n"
     ]
    }
   ],
   "source": [
    "optimizer = skopt.Optimizer(\n",
    "    dimensions=bounds,\n",
    "    random_state=1,\n",
    "    base_estimator='gp'\n",
    ")\n",
    "\n",
    "for i in range(10):\n",
    "    x = optimizer.ask(n_points = 5)\n",
    "    y = evaluate_function(x)\n",
    "\n",
    "    x = np.array(x)\n",
    "    y = np.array(y)\n",
    "    valid = np.isfinite(y) & (y < 1e20)\n",
    "    x = np.array(x)[valid,:]\n",
    "    y = np.array(y)[valid]\n",
    "    \n",
    "    optimizer.tell(x.tolist(),y.tolist())\n",
    "    min_idx = np.argmin(optimizer.yi)\n",
    "    print('Parameter     \\tDefault\\tOptimal\\tMin\\tMax')\n",
    "    for i in range(len(param_names)):\n",
    "        print(f'{param_names[i]}:     \\t{default_values[i]}\\t{optimizer.Xi[min_idx][i]:.4f}\\t{bounds[i][0]:.4f}\\t{bounds[i][1]:.4f}')"
   ]
  },
  {
   "cell_type": "markdown",
   "metadata": {},
   "source": [
    "### Optimization results\n",
    "After the optimization loop has completed, we see that the penalty function has reduced from 12.1977 Pa$^2$ to 31 $\\mu$Pa, close to the accuracy the convergence criterion of the solver itself. The most dramatic change is the value of $\\epsilon$ which increases to a value of 31.7 from 14.855. This is not unexpected as the scaling argument used to derive the value originally is intended to provide an order of magnitude estimate. The other parameters are well within the values reported in the values of Sherzadi et al. [2017]. "
   ]
  },
  {
   "cell_type": "code",
   "execution_count": 38,
   "metadata": {},
   "outputs": [
    {
     "name": "stdout",
     "output_type": "stream",
     "text": [
      "Parameter     \tDefault\tOptimal\tMin\tMax\n",
      "epsilon:     \t14.855\t31.7127\t2.9710\t74.2750\n",
      "Cmu:     \t0.09\t0.1055\t0.0500\t0.1500\n",
      "C1:     \t1.44\t1.0639\t1.0000\t1.5000\n",
      "C2:     \t1.92\t2.3314\t1.5000\t3.0000\n",
      "------------\n",
      "Error:     \t12.1977\t3.1282e-05\n"
     ]
    }
   ],
   "source": [
    "print('Parameter     \\tDefault\\tOptimal\\tMin\\tMax')\n",
    "for i in range(len(param_names)):\n",
    "    print(f'{param_names[i]}:     \\t{default_values[i]}\\t{optimizer.Xi[min_idx][i]:.4f}\\t{bounds[i][0]:.4f}\\t{bounds[i][1]:.4f}')\n",
    "print('-'*12)\n",
    "print(f'Error:     \\t{default_accuracy:.4f}\\t{optimizer.yi[min_idx]:.4e}')"
   ]
  },
  {
   "cell_type": "markdown",
   "metadata": {},
   "source": [
    "## Summary\n",
    "\n",
    "This notebook has demonstrated how SmartSim can be combined with OpenFOAM to implement a Bayesian optimization workflow that seeks to find a set of turbulence parameters that allows a RANS variant of the pitzDaily case to match that of its LES counterpart. It uses SmartSim's configuration and ensemble launching capabilities to explore multiple different sets of coefficients at every optimization iteration loop. For this case, the optimization loop executes completes within 5 minutes, requiring a total of 50 evaluation of the pitzDaily case to converge to the optimal solution. Both the OpenFOAM case and the optimizer used could be changed out to build a similar workflow, but tailored to the tools and applications of the users case."
   ]
  }
 ],
 "metadata": {
  "kernelspec": {
   "display_name": "Python 3 (ipykernel)",
   "language": "python",
   "name": "python3"
  },
  "language_info": {
   "codemirror_mode": {
    "name": "ipython",
    "version": 3
   },
   "file_extension": ".py",
   "mimetype": "text/x-python",
   "name": "python",
   "nbconvert_exporter": "python",
   "pygments_lexer": "ipython3",
   "version": "3.10.5"
  }
 },
 "nbformat": 4,
 "nbformat_minor": 4
}
